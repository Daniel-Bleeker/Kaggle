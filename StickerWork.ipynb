{
 "cells": [
  {
   "cell_type": "code",
   "execution_count": 1,
   "id": "3c168634-ea96-486a-b0f6-13609e5caaf0",
   "metadata": {},
   "outputs": [],
   "source": [
    "import numpy as np\n",
    "import pandas as pd\n",
    "from datetime import datetime\n",
    "import xgboost as xgb\n",
    "from sklearn.model_selection import TimeSeriesSplit\n",
    "from sklearn.metrics import mean_absolute_percentage_error\n",
    "import matplotlib.pyplot as plt\n",
    "import seaborn as sns"
   ]
  },
  {
   "cell_type": "markdown",
   "id": "e8fd864d-39e2-4e97-9dd3-0c3f7b035629",
   "metadata": {},
   "source": [
    "# Importing, Cleaning, & Preprocessing Training Data"
   ]
  },
  {
   "cell_type": "code",
   "execution_count": 2,
   "id": "2e718fc5-7450-449d-ba56-416b0489a483",
   "metadata": {},
   "outputs": [],
   "source": [
    "# Importing Data\n",
    "data=pd.read_csv('train.csv', sep=',')"
   ]
  },
  {
   "cell_type": "code",
   "execution_count": 3,
   "id": "a33d1382-864a-44b6-9bc8-09019296a133",
   "metadata": {},
   "outputs": [],
   "source": [
    "# Cleaning\n",
    "data[['country','store','product']]=data[['country','store','product']].astype('category')\n",
    "data['date']=pd.to_datetime(data['date'])"
   ]
  },
  {
   "cell_type": "code",
   "execution_count": 4,
   "id": "a96da4b8-0e7f-411c-ac33-9cb364837772",
   "metadata": {},
   "outputs": [],
   "source": [
    "#Preprocessing\n",
    "## Creating Day of week, month, year, day of year, week of year columns. \n",
    "data['dayofweek']=data['date'].dt.weekday\n",
    "data['month']=data['date'].dt.month\n",
    "data['year']=data['date'].dt.year\n",
    "data['dayofyear']=data['date'].dt.dayofyear\n",
    "data['weekofyear']=data['date'].dt.isocalendar().week\n",
    "data['weekofyear']=data['weekofyear'].astype('int')\n",
    "data['date']=data['date'].astype('int')\n",
    "\n"
   ]
  },
  {
   "cell_type": "code",
   "execution_count": 5,
   "id": "cad2082c-c543-4d2d-8ef4-ff7dd6a09eeb",
   "metadata": {},
   "outputs": [],
   "source": [
    "## Replacing NaN numbers sold with 0. \n",
    "data['num_sold']=data['num_sold'].fillna(0)"
   ]
  },
  {
   "cell_type": "code",
   "execution_count": 6,
   "id": "30443917-7daa-4c95-bf63-f5893e8abd14",
   "metadata": {},
   "outputs": [],
   "source": [
    "# Creating Time Series Split for Cross Validation\n",
    "tscv=TimeSeriesSplit(n_splits=5)\n",
    "for train_index, validation_index in tscv.split(data):\n",
    "    train = data.iloc[train_index]    \n",
    "    validation = data.iloc[validation_index]\n",
    "# Creating () & () for training & validation set\n",
    "x_train = train[['date','country', 'store', 'product', 'dayofweek', 'month', 'year', 'dayofyear', 'weekofyear']]\n",
    "y_train = train['num_sold']\n",
    "x_validation=validation[['date','country', 'store', 'product', 'dayofweek', 'month', 'year', 'dayofyear', 'weekofyear']]\n",
    "y_validation = validation['num_sold']\n"
   ]
  },
  {
   "cell_type": "code",
   "execution_count": 7,
   "id": "6276660b-16eb-47ff-a07d-74a160a7ba8e",
   "metadata": {},
   "outputs": [],
   "source": [
    "## Converting data over to Dmatrix, so categorical data can be used. \n",
    "dtrain=xgb.DMatrix(x_train, label=y_train, enable_categorical=True)\n",
    "dvalid=xgb.DMatrix(x_validation, label=y_validation, enable_categorical=True)"
   ]
  },
  {
   "cell_type": "markdown",
   "id": "c0d27575-7ca6-468c-8859-570bb89eb741",
   "metadata": {},
   "source": [
    "# Model Creating"
   ]
  },
  {
   "cell_type": "code",
   "execution_count": 8,
   "id": "a61fc80e-90ea-4195-a1f0-bda7349c9270",
   "metadata": {},
   "outputs": [],
   "source": [
    "# setting up parameters to be used in model\n",
    "params = {\n",
    "    'booster': 'gbtree',\n",
    "    'objective': 'reg:squarederror',  # Use 'reg:squarederror' instead of 'reg:linear' (deprecated)\n",
    "    'max_depth': 3,\n",
    "    'learning_rate': 0.01,\n",
    "    'base_score': 0.5,\n",
    "    'eval_metric': 'mape',  # Metric for evaluation\n",
    "    'enable_categorical': True,\n",
    "}\n",
    "\n",
    "watchlist = [(dtrain, 'train'), (dvalid, 'eval')]"
   ]
  },
  {
   "cell_type": "code",
   "execution_count": 9,
   "id": "0e0a6080-0493-4aa7-87b9-f7f4b2db92d8",
   "metadata": {},
   "outputs": [
    {
     "name": "stdout",
     "output_type": "stream",
     "text": [
      "[0]\ttrain-mape:inf\teval-mape:inf\n",
      "[1]\ttrain-mape:inf\teval-mape:inf\n",
      "[2]\ttrain-mape:inf\teval-mape:inf\n",
      "[3]\ttrain-mape:inf\teval-mape:inf\n",
      "[4]\ttrain-mape:inf\teval-mape:inf\n",
      "[5]\ttrain-mape:inf\teval-mape:inf\n",
      "[6]\ttrain-mape:inf\teval-mape:inf\n",
      "[7]\ttrain-mape:inf\teval-mape:inf\n",
      "[8]\ttrain-mape:inf\teval-mape:inf\n",
      "[9]\ttrain-mape:inf\teval-mape:inf\n",
      "[10]\ttrain-mape:inf\teval-mape:inf\n",
      "[11]\ttrain-mape:inf\teval-mape:inf\n",
      "[12]\ttrain-mape:inf\teval-mape:inf\n",
      "[13]\ttrain-mape:inf\teval-mape:inf\n",
      "[14]\ttrain-mape:inf\teval-mape:inf\n",
      "[15]\ttrain-mape:inf\teval-mape:inf\n",
      "[16]\ttrain-mape:inf\teval-mape:inf\n",
      "[17]\ttrain-mape:inf\teval-mape:inf\n",
      "[18]\ttrain-mape:inf\teval-mape:inf\n",
      "[19]\ttrain-mape:inf\teval-mape:inf\n",
      "[20]\ttrain-mape:inf\teval-mape:inf\n",
      "[21]\ttrain-mape:inf\teval-mape:inf\n",
      "[22]\ttrain-mape:inf\teval-mape:inf\n",
      "[23]\ttrain-mape:inf\teval-mape:inf\n",
      "[24]\ttrain-mape:inf\teval-mape:inf\n",
      "[25]\ttrain-mape:inf\teval-mape:inf\n",
      "[26]\ttrain-mape:inf\teval-mape:inf\n",
      "[27]\ttrain-mape:inf\teval-mape:inf\n",
      "[28]\ttrain-mape:inf\teval-mape:inf\n",
      "[29]\ttrain-mape:inf\teval-mape:inf\n",
      "[30]\ttrain-mape:inf\teval-mape:inf\n",
      "[31]\ttrain-mape:inf\teval-mape:inf\n",
      "[32]\ttrain-mape:inf\teval-mape:inf\n",
      "[33]\ttrain-mape:inf\teval-mape:inf\n",
      "[34]\ttrain-mape:inf\teval-mape:inf\n",
      "[35]\ttrain-mape:inf\teval-mape:inf\n",
      "[36]\ttrain-mape:inf\teval-mape:inf\n",
      "[37]\ttrain-mape:inf\teval-mape:inf\n",
      "[38]\ttrain-mape:inf\teval-mape:inf\n",
      "[39]\ttrain-mape:inf\teval-mape:inf\n",
      "[40]\ttrain-mape:inf\teval-mape:inf\n"
     ]
    },
    {
     "name": "stderr",
     "output_type": "stream",
     "text": [
      "C:\\Users\\dbleeker\\AppData\\Local\\Programs\\Python\\Python313\\Lib\\site-packages\\xgboost\\core.py:158: UserWarning: [11:59:14] WARNING: C:\\buildkite-agent\\builds\\buildkite-windows-cpu-autoscaling-group-i-0c55ff5f71b100e98-1\\xgboost\\xgboost-ci-windows\\src\\learner.cc:740: \n",
      "Parameters: { \"enable_categorical\" } are not used.\n",
      "\n",
      "  warnings.warn(smsg, UserWarning)\n"
     ]
    },
    {
     "name": "stdout",
     "output_type": "stream",
     "text": [
      "[41]\ttrain-mape:inf\teval-mape:inf\n",
      "[42]\ttrain-mape:inf\teval-mape:inf\n",
      "[43]\ttrain-mape:inf\teval-mape:inf\n",
      "[44]\ttrain-mape:inf\teval-mape:inf\n",
      "[45]\ttrain-mape:inf\teval-mape:inf\n",
      "[46]\ttrain-mape:inf\teval-mape:inf\n",
      "[47]\ttrain-mape:inf\teval-mape:inf\n",
      "[48]\ttrain-mape:inf\teval-mape:inf\n",
      "[49]\ttrain-mape:inf\teval-mape:inf\n",
      "[50]\ttrain-mape:inf\teval-mape:inf\n"
     ]
    }
   ],
   "source": [
    "# Creating Model\n",
    "model = xgb.train(\n",
    "    params=params,\n",
    "    dtrain=dtrain,\n",
    "    num_boost_round=1000,\n",
    "    early_stopping_rounds=50,\n",
    "    evals=watchlist\n",
    ")"
   ]
  },
  {
   "cell_type": "code",
   "execution_count": 10,
   "id": "c3562d79-0894-4ccc-b436-468c4600a166",
   "metadata": {},
   "outputs": [],
   "source": [
    "# Creating Submission\n",
    "test=pd.read_csv('test.csv', sep=',')\n",
    "\n",
    "## Cleaning\n",
    "test[['country','store','product']]=test[['country','store','product']].astype('category')\n",
    "test['date']=pd.to_datetime(test['date'])\n",
    "\n",
    "## Creating Day of week, month, year, day of year, week of year columns. \n",
    "test['dayofweek']=test['date'].dt.weekday\n",
    "test['month']=test['date'].dt.month\n",
    "test['year']=test['date'].dt.year\n",
    "test['dayofyear']=test['date'].dt.dayofyear\n",
    "test['weekofyear']=test['date'].dt.isocalendar().week\n",
    "test['weekofyear']=test['weekofyear'].astype('int')\n",
    "test['date']=test['date'].astype('int')\n",
    "\n",
    "## Preprocessing\n",
    "data2test=test[['date','country', 'store', 'product', 'dayofweek', 'month', 'year', 'dayofyear', 'weekofyear']]\n",
    "\n",
    "Eval = xgb.DMatrix(data2test, enable_categorical=True)\n",
    "\n",
    "## Creating Predictions\n",
    "predict = model.predict(Eval)\n",
    "\n",
    "## Submission Dataframe\n",
    "submission= pd.DataFrame({'id':test['id'],\n",
    "                     'num_sold': predict\n",
    "                    })\n",
    "submission=submission.set_index('id')\n",
    "\n",
    "## Submission File\n",
    "submission.to_csv('submission.csv')\n",
    "\n"
   ]
  },
  {
   "cell_type": "code",
   "execution_count": null,
   "id": "b4b0dc1a-e68e-4b4a-8240-4c2f002bd1e1",
   "metadata": {},
   "outputs": [],
   "source": []
  }
 ],
 "metadata": {
  "kernelspec": {
   "display_name": "Python 3 (ipykernel)",
   "language": "python",
   "name": "python3"
  },
  "language_info": {
   "codemirror_mode": {
    "name": "ipython",
    "version": 3
   },
   "file_extension": ".py",
   "mimetype": "text/x-python",
   "name": "python",
   "nbconvert_exporter": "python",
   "pygments_lexer": "ipython3",
   "version": "3.13.1"
  }
 },
 "nbformat": 4,
 "nbformat_minor": 5
}
